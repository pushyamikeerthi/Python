{
 "cells": [
  {
   "cell_type": "markdown",
   "id": "8c59b57e",
   "metadata": {},
   "source": [
    "### 1. Create the below pattern using nested for loop in Python."
   ]
  },
  {
   "cell_type": "markdown",
   "id": "41d002a4",
   "metadata": {},
   "source": [
    "        *\n",
    "        * *\n",
    "        * * *\n",
    "        * * * *\n",
    "        * * * * *\n",
    "        * * * *\n",
    "        * * *\n",
    "        * *\n",
    "        *"
   ]
  },
  {
   "cell_type": "code",
   "execution_count": 1,
   "id": "1f8e2e92",
   "metadata": {},
   "outputs": [
    {
     "name": "stdout",
     "output_type": "stream",
     "text": [
      "Enter the number of rows:5\n",
      "\n",
      "* \n",
      "* * \n",
      "* * * \n",
      "* * * * \n",
      "* * * * * \n",
      "* * * * \n",
      "* * * \n",
      "* * \n",
      "* \n"
     ]
    }
   ],
   "source": [
    " rows = int(input('Enter the number of rows:'))\n",
    "for i in range(rows+1):\n",
    "    for j in range(i):\n",
    "        print(\"*\", end=' ')\n",
    "    print('')\n",
    "for k in range(j,0,-1):\n",
    "    for l in range(k):\n",
    "        print(\"*\", end=' ')\n",
    "    print('')"
   ]
  },
  {
   "cell_type": "markdown",
   "id": "5e65be9c",
   "metadata": {},
   "source": [
    "### 2. Write a Python program to reverse a word after accepting the input from the user."
   ]
  },
  {
   "cell_type": "code",
   "execution_count": 2,
   "id": "5274b5fa",
   "metadata": {},
   "outputs": [
    {
     "name": "stdout",
     "output_type": "stream",
     "text": [
      "Enter the word to reverse:ineuron\n",
      " The reverse word is : norueni\n"
     ]
    }
   ],
   "source": [
    "word=list()\n",
    "word=input('Enter the word to reverse:')\n",
    "print(' The reverse word is :',word[::-1])\n"
   ]
  },
  {
   "cell_type": "code",
   "execution_count": null,
   "id": "e708dc08",
   "metadata": {},
   "outputs": [],
   "source": []
  }
 ],
 "metadata": {
  "kernelspec": {
   "display_name": "Python 3 (ipykernel)",
   "language": "python",
   "name": "python3"
  },
  "language_info": {
   "codemirror_mode": {
    "name": "ipython",
    "version": 3
   },
   "file_extension": ".py",
   "mimetype": "text/x-python",
   "name": "python",
   "nbconvert_exporter": "python",
   "pygments_lexer": "ipython3",
   "version": "3.9.12"
  }
 },
 "nbformat": 4,
 "nbformat_minor": 5
}
